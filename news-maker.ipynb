{
 "cells": [
  {
   "cell_type": "code",
   "id": "initial_id",
   "metadata": {
    "collapsed": true
   },
   "source": [
    "from dotenv import load_dotenv\n",
    "import os\n",
    "import requests\n",
    "import json\n",
    "from pydantic import BaseModel\n",
    "from openai import OpenAI\n",
    "\n",
    "load_dotenv()\n",
    "openai_key = os.environ.get(\"OPENAI_API_KEY\")\n",
    "client = OpenAI(api_key=openai_key)"
   ],
   "outputs": [],
   "execution_count": null
  },
  {
   "metadata": {},
   "cell_type": "code",
   "source": [
    "load_dotenv()\n",
    "diffbot_token = os.environ.get(\"DIFF_BOT_TOKEN\")\n",
    "print(diffbot_token)"
   ],
   "id": "629e33151bc18578",
   "outputs": [],
   "execution_count": null
  },
  {
   "metadata": {},
   "cell_type": "code",
   "source": [
    "surl = f\"https://api.diffbot.com/v3/list?url=https://habr.com/ru/news/&token={diffbot_token}\"\n",
    "\n",
    "headers = {\n",
    "    \"Content-Type\": \"application/json\"\n",
    "}\n",
    "\n",
    "response1 = requests.request(\"GET\", surl, headers=headers)"
   ],
   "id": "603aae5e36073e5b",
   "outputs": [],
   "execution_count": null
  },
  {
   "metadata": {},
   "cell_type": "code",
   "source": [
    "url2 = f\"https://api.diffbot.com/v3/list?url=https://retailnews.ai/category/news&useProxy=default&token={diffbot_token}\"\n",
    "\n",
    "headers = {\n",
    "    \"Content-Type\": \"application/json\"\n",
    "}\n",
    "\n",
    "response2 = requests.request(\"GET\", url2, headers=headers)"
   ],
   "id": "c0335de67815b98b",
   "outputs": [],
   "execution_count": null
  },
  {
   "metadata": {},
   "cell_type": "code",
   "source": [
    "data1 = json.loads(response1.text).get(\"objects\")\n",
    "# Получаем только items из первого элемента списка data\n",
    "if data1 and isinstance(data1, list) and len(data1) > 0:\n",
    "    items1 = data1[0].get(\"items\", [])\n",
    "else:\n",
    "    items1 = []\n",
    "\n",
    "items1=items1[:30]\n",
    "\n",
    "print(items1)"
   ],
   "id": "b707ffb22131178a",
   "outputs": [],
   "execution_count": null
  },
  {
   "metadata": {},
   "cell_type": "code",
   "source": [
    "data2 = json.loads(response2.text).get(\"objects\")\n",
    "# Получаем только items из первого элемента списка data\n",
    "if data2 and isinstance(data2, list) and len(data2) > 0:\n",
    "    items2 = data2[0].get(\"items\", [])\n",
    "else:\n",
    "    items2 = []\n",
    "\n",
    "items2=items2[:30]\n",
    "\n",
    "print(items2)"
   ],
   "id": "3814db2ba0a6958c",
   "outputs": [],
   "execution_count": null
  },
  {
   "metadata": {},
   "cell_type": "code",
   "source": [
    "#data = list(data1)  # Создаем новый список\n",
    "items = items1 + items2\n",
    "results = []\n",
    "\n",
    "class ConfirmationModel(BaseModel):\n",
    "    isArticleAI: int\n",
    "\n",
    "class TextTransformer(BaseModel):\n",
    "    title:str\n",
    "    summary:str\n",
    "    hashtags: str"
   ],
   "id": "499f3d0e17eb5076",
   "outputs": [],
   "execution_count": null
  },
  {
   "metadata": {},
   "cell_type": "code",
   "source": [
    "for item in items:\n",
    "    title = item.get('title')\n",
    "    summary = item.get('summary')\n",
    "    \n",
    "    if title and summary:\n",
    "        completion = client.beta.chat.completions.parse(\n",
    "            model=\"gpt-4o-mini\",\n",
    "            messages=[\n",
    "                {\"role\": \"system\", \"content\": \"You are an Artificial Intelligence subject matter expert and expert at structured data extraction. You will be given structured items and you need to make conclusion about data.\"},\n",
    "                {\"role\": \"user\", \"content\": \"Return in structured data '1' if this text can be classified as related to Artificial Intelligence area of knowledge: \"+title +\" \" +summary +\" and '0' if not.\"}\n",
    "            ],\n",
    "            response_format=ConfirmationModel,\n",
    "        )\n",
    "        \n",
    "        res= completion.choices[0].message.parsed\n",
    "        \n",
    "        if res.isArticleAI == 1:\n",
    "            completion2 = client.beta.chat.completions.parse(\n",
    "                model=\"gpt-4o-mini\",\n",
    "                messages=[\n",
    "                    {\"role\": \"system\", \"content\": \"You are an Artificial Intelligence subject matter expert and expert at structured data extraction. You will be given structured items and you need to make conclusion about data.\"},\n",
    "                    {\"role\": \"user\", \"content\": \"Add 3 most relevant hashtags and return title and summary on Russian title:\"+title +\" summary:\" +summary}\n",
    "                ],\n",
    "                response_format=TextTransformer,\n",
    "            )\n",
    "            res2= completion2.choices[0].message.parsed\n",
    "            #Add 3 (three) relevant hashtags and translate title and summary to russian language\"\n",
    "            item[\"title\"]= res2.title\n",
    "            item[\"summary\"]= res2.summary\n",
    "            item[\"hashtags\"]= res2.hashtags\n",
    "            results.append(item)\n",
    "\n",
    "\n",
    "\n",
    "#list(items)\n",
    "# Добавляем элементы "
   ],
   "id": "ca5140a379621f52",
   "outputs": [],
   "execution_count": null
  },
  {
   "metadata": {},
   "cell_type": "code",
   "source": "print(results)",
   "id": "57055c192878fe2b",
   "outputs": [],
   "execution_count": null
  },
  {
   "metadata": {},
   "cell_type": "code",
   "source": [
    "# Генерация HTML-кода\n",
    "from datetime import datetime\n",
    "today = datetime.now()\n",
    "# Форматируем дату в нужном формате\n",
    "formatted_date = today.strftime('%d-%m-%Y')\n",
    "#<p>{item.date}</p>\n",
    "#<p><strong>Хештеги:</strong> {item[\"hashtags\"]}</p>\n",
    "#<p>{item[\"date\"]}</p>\n",
    "html_output = \"\"\n",
    "for item in results:\n",
    "    image = item.get('image')\n",
    "    hashtags = item.get('hashtags')\n",
    "    summary = item.get('summary')\n",
    "    title = item.get('title')\n",
    "    link = item.get('link')\n",
    "       \n",
    "    html_output += f\"\"\"\n",
    "    <div class=\"news-item\">\n",
    "        <p>{formatted_date}</p>\n",
    "        <h2><a href=\"{link}\" target=\"_blank\">{title}</a></h2>\n",
    "        <img src=\"{image}\" alt=\"{title}\">\n",
    "        <p>{summary}</p>\n",
    "        <p><strong>Хештеги:</strong> {hashtags}</p>\n",
    "    </div>\n",
    "    \"\"\"\n",
    "print(html_output)"
   ],
   "id": "9cca0a59daefbb4",
   "outputs": [],
   "execution_count": null
  },
  {
   "metadata": {},
   "cell_type": "code",
   "source": [
    "with open('template.html', 'r', encoding='utf-8') as f:\n",
    "    template_content = f.read()"
   ],
   "id": "66b84be0b702010",
   "outputs": [],
   "execution_count": null
  },
  {
   "metadata": {},
   "cell_type": "code",
   "source": "full_html = '<div class=\"news-container\">\\n' + \"\".join(html_output) + '\\n</div>'",
   "id": "6b7b5fc0bd5c23e4",
   "outputs": [],
   "execution_count": null
  },
  {
   "metadata": {},
   "cell_type": "code",
   "source": "final_content = template_content.replace('<!-- NEWS_PLACEHOLDER -->', full_html)",
   "id": "3b283bbee4b663b1",
   "outputs": [],
   "execution_count": null
  },
  {
   "metadata": {},
   "cell_type": "code",
   "source": [
    "# Записываем итог в newsbody.html\n",
    "with open('newsbody.html', 'w', encoding='utf-8') as f:\n",
    "    f.write(final_content)"
   ],
   "id": "2d4460aae0f996",
   "outputs": [],
   "execution_count": null
  },
  {
   "metadata": {
    "ExecuteTime": {
     "end_time": "2024-12-15T23:28:34.990240Z",
     "start_time": "2024-12-15T23:28:32.537820Z"
    }
   },
   "cell_type": "code",
   "source": [
    "import requests\n",
    "import base64\n",
    "import os\n",
    "\n",
    "github_token = os.environ.get(\"GITHUB_TOKEN\")  # или ваш токен напрямую\n",
    "github_username = \"Vadimber2\"\n",
    "github_repo = \"xpertnetz_framer\"\n",
    "file_path = \"public/static/newsbody.html\"  # путь к файлу в репо\n",
    "local_file_path = \"newsbody.html\"  # локальный файл, который вы хотите загрузить\n",
    "\n",
    "headers = {\n",
    "    \"Authorization\": f\"token {github_token}\",\n",
    "    \"Content-Type\": \"application/json\"\n",
    "}\n",
    "\n",
    "# Сначала получим информацию о файле (в том числе SHA)\n",
    "url = f\"https://api.github.com/repos/{github_username}/{github_repo}/contents/{file_path}\"\n",
    "get_response = requests.get(url, headers=headers)\n",
    "\n",
    "# Проверяем статус GET-запроса\n",
    "if get_response.status_code == 200:\n",
    "    file_info = get_response.json()\n",
    "    existing_sha = file_info[\"sha\"]\n",
    "elif get_response.status_code == 404:\n",
    "    # Файл не существует, SHA указывать не нужно\n",
    "    existing_sha = None\n",
    "else:\n",
    "    print(\"Ошибка при получении информации о файле:\")\n",
    "    print(get_response.status_code, get_response.text)\n",
    "    exit(1)\n",
    "\n",
    "# Читаем локальный файл и кодируем в base64\n",
    "with open(local_file_path, 'rb') as f:\n",
    "    content = f.read()\n",
    "encoded = base64.b64encode(content).decode('utf-8')\n",
    "\n",
    "data = {\n",
    "    \"message\": \"Update newsbody.html\",\n",
    "    \"content\": encoded\n",
    "}\n",
    "\n",
    "# Если файл уже существует, добавляем SHA\n",
    "if existing_sha is not None:\n",
    "    data[\"sha\"] = existing_sha\n",
    "\n",
    "# Теперь делаем PUT-запрос для обновления/создания файла\n",
    "put_response = requests.put(url, headers=headers, json=data)\n",
    "\n",
    "if put_response.status_code in [200, 201]:\n",
    "    print(\"Файл успешно обновлён или создан в репозитории.\")\n",
    "else:\n",
    "    print(\"Ошибка при загрузке файла:\")\n",
    "    print(put_response.status_code, put_response.text)\n"
   ],
   "id": "8a046543a3029d82",
   "outputs": [
    {
     "name": "stdout",
     "output_type": "stream",
     "text": [
      "Файл успешно обновлён или создан в репозитории.\n"
     ]
    }
   ],
   "execution_count": 61
  },
  {
   "metadata": {},
   "cell_type": "code",
   "source": "",
   "id": "6f5afea938dcd60e",
   "outputs": [],
   "execution_count": null
  }
 ],
 "metadata": {
  "kernelspec": {
   "display_name": "Python 3",
   "language": "python",
   "name": "python3"
  },
  "language_info": {
   "codemirror_mode": {
    "name": "ipython",
    "version": 2
   },
   "file_extension": ".py",
   "mimetype": "text/x-python",
   "name": "python",
   "nbconvert_exporter": "python",
   "pygments_lexer": "ipython2",
   "version": "2.7.6"
  }
 },
 "nbformat": 4,
 "nbformat_minor": 5
}
